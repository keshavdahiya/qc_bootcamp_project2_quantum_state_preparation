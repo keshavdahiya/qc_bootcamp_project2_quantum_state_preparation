{
 "cells": [
  {
   "cell_type": "code",
   "execution_count": 29,
   "id": "ed14b074",
   "metadata": {},
   "outputs": [],
   "source": [
    "from qiskit.circuit import QuantumCircuit, QuantumRegister, AncillaRegister\n",
    "from qiskit.quantum_info import Statevector\n",
    "\n",
    "import numpy as np"
   ]
  },
  {
   "cell_type": "code",
   "execution_count": 81,
   "id": "cfccec86",
   "metadata": {},
   "outputs": [
    {
     "data": {
      "text/plain": [
       "[array([0, 1, 2, 3]), array([4, 5, 6, 7])]"
      ]
     },
     "execution_count": 81,
     "metadata": {},
     "output_type": "execute_result"
    }
   ],
   "source": [
    "n = 3\n",
    "psi = np.arange(0, (1<<n))\n",
    "np.split(psi, 2)"
   ]
  },
  {
   "cell_type": "code",
   "execution_count": 82,
   "id": "340720ba",
   "metadata": {},
   "outputs": [],
   "source": [
    "def theta_amp (amps):\n",
    "    sub_amps = np.split(amps, 2)\n",
    "    norm_amps = np.linalg.norm(amps)\n",
    "    if norm_amps == 0:\n",
    "        return 0\n",
    "    return 2*np.arccos(np.linalg.norm(sub_amps[0])/norm_amps)"
   ]
  },
  {
   "cell_type": "code",
   "execution_count": 85,
   "id": "82fa5aa9",
   "metadata": {},
   "outputs": [],
   "source": [
    "def amp_to_ang (amps):\n",
    "    n = int(np.log2(len(amps)))\n",
    "    angs = [theta_amp(amps)]\n",
    "    for i in range(1, n):\n",
    "        sub_amps = np.split(amps, 1<<i)\n",
    "        for x in sub_amps:\n",
    "            angs.append(theta_amp(x))\n",
    "    return angs"
   ]
  },
  {
   "cell_type": "code",
   "execution_count": 125,
   "id": "d5fb6e04",
   "metadata": {},
   "outputs": [],
   "source": [
    "def ry_mux (n, theta, state):\n",
    "    reg = QuantumRegister(n, name='x')\n",
    "    circ = QuantumCircuit(reg, name='m'+r'$R_Y$'+'\\n'+str(state)+'\\n'+r'$\\theta$'+ '='+str(np.round(theta, 2)))\n",
    "    qbs = [reg[k+1] for k, x in enumerate(state) if x == '0']\n",
    "    if len(qbs) != 0:\n",
    "        circ.x(qbs)\n",
    "    circ.p(-np.pi/2, reg[0])\n",
    "    circ.h(reg[0])\n",
    "    circ.mcrz(theta, reg[1:], reg[0])\n",
    "    circ.h(reg[0])\n",
    "    circ.p(np.pi/2, reg[0])\n",
    "    if len(qbs) != 0:\n",
    "        circ.x(qbs)\n",
    "    return circ.to_gate()"
   ]
  },
  {
   "cell_type": "code",
   "execution_count": 105,
   "id": "8cc8387a",
   "metadata": {},
   "outputs": [],
   "source": [
    "def q_amp_prep (n, angs):\n",
    "    reg = QuantumRegister(n, name='x')\n",
    "    circ = QuantumCircuit(reg, name='amp_prep')\n",
    "    circ.ry(angs[0], reg[-1])\n",
    "    for i in range(1, n):\n",
    "        for j in range(0, (1<<i)):\n",
    "            bij = format(j, f'0{i}b')[::-1]\n",
    "            circ.compose(ry_mux(i+1, angs[(1<<i)+j-1], bij), qubits=reg[-i-1:], inplace=True)\n",
    "    return circ.to_gate()"
   ]
  },
  {
   "cell_type": "code",
   "execution_count": 126,
   "id": "80e7a007",
   "metadata": {},
   "outputs": [
    {
     "name": "stdout",
     "output_type": "stream",
     "text": [
      "1.126243234769772e-15\n"
     ]
    },
    {
     "data": {
      "image/png": "[encoded data removed]",
      "text/plain": [
       "<Figure size 1707.68x284.278 with 1 Axes>"
      ]
     },
     "execution_count": 126,
     "metadata": {},
     "output_type": "execute_result"
    }
   ],
   "source": [
    "n = 3\n",
    "psi = np.arange(1, 1+(1<<n))\n",
    "psi = (1/np.linalg.norm(psi))*psi\n",
    "qx = QuantumRegister(n, name='x')\n",
    "qsp = QuantumCircuit(qx)\n",
    "angs = amp_to_ang(psi)\n",
    "qsp.compose(q_amp_prep(n, angs), inplace=True)\n",
    "print(np.linalg.norm(np.array(Statevector(qsp))-psi))\n",
    "qsp.decompose().draw(output='mpl', style='bw')"
   ]
  },
  {
   "cell_type": "code",
   "execution_count": 128,
   "id": "fa9d8db6",
   "metadata": {},
   "outputs": [
    {
     "data": {
      "text/plain": [
       "array([0.070014  , 0.14002801, 0.21004201, 0.28005602, 0.35007002,\n",
       "       0.42008403, 0.49009803, 0.56011203])"
      ]
     },
     "execution_count": 128,
     "metadata": {},
     "output_type": "execute_result"
    }
   ],
   "source": [
    "psi"
   ]
  },
  {
   "cell_type": "code",
   "execution_count": 127,
   "id": "bac146eb",
   "metadata": {},
   "outputs": [
    {
     "data": {
      "text/latex": [
       "$$0.0700140042 |000\\rangle+0.1400280084 |001\\rangle+0.2100420126 |010\\rangle+0.2800560168 |011\\rangle+0.350070021 |100\\rangle+\\frac{\\sqrt{51}}{17} |101\\rangle+0.4900980294 |110\\rangle+0.5601120336 |111\\rangle$$"
      ],
      "text/plain": [
       "<IPython.core.display.Latex object>"
      ]
     },
     "execution_count": 127,
     "metadata": {},
     "output_type": "execute_result"
    }
   ],
   "source": [
    "Statevector(qsp).draw(\"latex\")"
   ]
  },
  {
   "cell_type": "code",
   "execution_count": null,
   "id": "9132f168",
   "metadata": {},
   "outputs": [],
   "source": []
  }
 ],
 "metadata": {
  "kernelspec": {
   "display_name": "base",
   "language": "python",
   "name": "python3"
  },
  "language_info": {
   "codemirror_mode": {
    "name": "ipython",
    "version": 3
   },
   "file_extension": ".py",
   "mimetype": "text/x-python",
   "name": "python",
   "nbconvert_exporter": "python",
   "pygments_lexer": "ipython3",
   "version": "3.11.5"
  }
 },
 "nbformat": 4,
 "nbformat_minor": 5
}
