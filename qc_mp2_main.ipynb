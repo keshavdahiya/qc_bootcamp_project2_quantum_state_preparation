{
 "cells": [
  {
   "cell_type": "markdown",
   "id": "88f44c5d",
   "metadata": {},
   "source": [
    "# Quantum State Preparation\n",
    "\n",
    "Given a $2^n$-dimensional state vector $\\psi=\\sum_{x=0}^{2^n-1}\\psi_x\\ket{x}_n\\in\\mathbb{C}^{2^n}$ such that $\\|\\psi\\|_2=1$, we write a function QSP $(\\psi)$ which outputs a circuit $U$, such that \n",
    "$$U\\ket{0}_n=\\sum_{x=0}^{2^n-1}\\psi_x\\ket{x}_n\\ .$$\n",
    "\n",
    "The construction is done in three steps. \n",
    "1. Using the absolute values $|\\psi_x|$, find angles $\\theta, \\theta_{0}, \\theta_{1}, \\theta_{00}, \\theta_{10}, \\theta_{01}, \\theta_{11}, \\cdots $ such that (for example in the case of $n=3$) \n",
    "$$\\sum_{x=0}^{2^3-1}|\\psi_x|\\ket{x}_n=\\cos(\\theta/2)\\bigg(\\cos(\\theta_{0}/2)\\Big(\\cos(\\theta_{00}/2)\\ket{0}+\\sin(\\theta_{00}/2)\\ket{1}\\Big)\\ket{0}+\\sin(\\theta_{0}/2)\\Big(\\cos(\\theta_{10}/2)\\ket{0}+\\sin(\\theta_{10}/2)\\ket{1}\\Big)\\ket{1}\\bigg)\\ket{0}$$\n",
    "$$\\qquad\\qquad\\qquad + \\sin(\\theta/2)\\bigg(\\cos(\\theta_{1}/2)\\Big(\\cos(\\theta_{01}/2)\\ket{0}+\\sin(\\theta_{01}/2)\\ket{1}\\Big)\\ket{0}+\\sin(\\theta_{1}/2)\\Big(\\cos(\\theta_{11}/2)\\ket{0}+\\sin(\\theta_{11}/2)\\ket{1}\\Big)\\ket{1}\\bigg)\\ket{1}.$$ \n",
    "$\\quad\\ \\ $ This step is entirely classical.\n",
    "\n",
    "2. Using the $R_Y$ multiplexers and the angles obtained in step 1, prepare the state $\\sum_{x=0}^{2^n-1}|\\psi_x|\\ket{x}_n$.\n",
    "\n",
    "3. Using the $R_Z$ multiplexers and one ancilla, prepare the state $\\sum_{x=0}^{2^n-1}\\psi_x\\ket{x}_n$ from the state $\\sum_{x=0}^{2^n-1}|\\psi_x|\\ket{x}_n$."
   ]
  },
  {
   "cell_type": "code",
   "execution_count": 284,
   "id": "ed14b074",
   "metadata": {},
   "outputs": [],
   "source": [
    "from qiskit.circuit import QuantumCircuit, QuantumRegister, AncillaRegister\n",
    "from qiskit.quantum_info import Statevector\n",
    "\n",
    "import numpy as np"
   ]
  },
  {
   "cell_type": "markdown",
   "id": "116a5b92",
   "metadata": {},
   "source": [
    "## Step 1 - Find the angles $\\theta_{\\dots}$ from absoute values $|\\psi_x|$\n",
    "\n",
    "The function 'theta_amp (amps)' takes an array of absolute values $|\\psi_0|, |\\psi_1|, \\cdots |\\psi_{2^n-1}|$ as input and returns the angle \n",
    "$$\\theta = 2\\cos^{-1}\\bigg(\\frac{\\sqrt{|\\psi_0|^2+|\\psi_1|^2+\\cdots+|\\psi_{2^{n-1}-1}|^2}}{\\sqrt{|\\psi_0|^2+|\\psi_1|^2+\\cdots+|\\psi_{2^{n}-1}|^2}}\\bigg)\\ .$$\n",
    "If the denominator is zero then the angle 0 is returned. \n",
    "\n",
    "Essentially we take twice of $\\arccos$ of the ratio of norm of first half of an input vector by the norm of the input vector itself."
   ]
  },
  {
   "cell_type": "code",
   "execution_count": 82,
   "id": "340720ba",
   "metadata": {},
   "outputs": [],
   "source": [
    "def theta_amp (amps):\n",
    "    sub_amps = np.split(amps, 2)\n",
    "    norm_amps = np.linalg.norm(amps)\n",
    "    if norm_amps == 0:\n",
    "        return 0\n",
    "    return 2*np.arccos(np.linalg.norm(sub_amps[0])/norm_amps)"
   ]
  },
  {
   "cell_type": "markdown",
   "id": "6fd0d2f6",
   "metadata": {},
   "source": [
    "The function 'amp_to_ang(amps)' takes the absolute values $|\\psi_x|$ as input and outputs the list of angles $\\theta, \\theta_{0}, \\theta_{1}, \\theta_{00}, \\theta_{10}, \\theta_{01}, \\theta_{11}, \\cdots $, in that order."
   ]
  },
  {
   "cell_type": "code",
   "execution_count": null,
   "id": "82fa5aa9",
   "metadata": {},
   "outputs": [],
   "source": [
    "def amp_to_ang (amps):\n",
    "    n = int(np.log2(len(amps)))\n",
    "    angs = [theta_amp(amps)]\n",
    "    for i in range(1, n): # at the i-th step split the input vector into 2^i equal parts\n",
    "        sub_amps = np.split(amps, 1<<i)\n",
    "        for x in sub_amps: # for every splitted vector find angle theta\n",
    "            angs.append(theta_amp(x)) \n",
    "    return angs"
   ]
  },
  {
   "cell_type": "markdown",
   "id": "860f5157",
   "metadata": {},
   "source": [
    "## Step 2 - Prepare the absolute value state using $R_Y$ multiplxers\n",
    "\n",
    "We first create a multi-controleld $R_Z$ gate. This is exactly same the qiskit in-built mcrz gate. The only utility of the following function is to better display the subsequent circuits by avoiding the decomposition of mcrz qiskit implementation."
   ]
  },
  {
   "cell_type": "code",
   "execution_count": 230,
   "id": "4c99f0da",
   "metadata": {},
   "outputs": [],
   "source": [
    "def MCRZ (n, theta):\n",
    "    reg = QuantumRegister(n, name='x')\n",
    "    circ = QuantumCircuit(reg, name='MC'+r'$R_Z$'+'('+str(np.round(theta, 2))+')')\n",
    "    circ.mcrz(theta, reg[1:], reg[0])\n",
    "    return circ.to_gate()"
   ]
  },
  {
   "cell_type": "markdown",
   "id": "b5df897c",
   "metadata": {},
   "source": [
    "### The $R_Y$ multiplexer\n",
    "\n",
    "The following function 'ry_mux(n, theta, state)' implement an $R_Y$-gate multiplexer on $n$ qubits. \n",
    "\n",
    "1. The first qubit is the target qubit, while the last $n-1$ qubits are control qubits. \n",
    "\n",
    "2. The angle of rotation of $R_Y$ gate in the target qubit is specified by theta. \n",
    "\n",
    "3. The input variable 'state' specifies the control state. \n",
    "For example, when state = '110', the target qubit $x_0$ will be tranformed by $R_Y$ iff $x_1=1$, $x_2=1$, $x_3=0$.\n",
    "\n",
    "Given $n$, state has to be a bitstring of length $n-1$.\n",
    "\n",
    "Note that only $1$-qubit gates and the multi-controleld $R_Z$ gate are used in its implementation, using the simple identity \n",
    "$$R_Y(\\theta) = P(\\pi/2)\\,H\\,R_Z(\\theta)\\,H\\,P(-\\pi/2)\\ .$$"
   ]
  },
  {
   "cell_type": "code",
   "execution_count": null,
   "id": "d5fb6e04",
   "metadata": {},
   "outputs": [],
   "source": [
    "def ry_mux (n, theta, state):\n",
    "    reg = QuantumRegister(n, name='x')\n",
    "    circ = QuantumCircuit(reg, name='m'+r'$R_Y$'+'\\n'+str(state)+'\\n'+r'$\\theta$'+ '='+str(np.round(theta, 2)))\n",
    "    qbs = [reg[k+1] for k, x in enumerate(state) if x == '0']\n",
    "    if len(qbs) != 0:\n",
    "        circ.x(qbs) # flip the bits that are 0\n",
    "    circ.p(-np.pi/2, reg[0])\n",
    "    circ.h(reg[0])\n",
    "    circ.compose(MCRZ(n, theta), inplace=True)\n",
    "    circ.h(reg[0])\n",
    "    circ.p(np.pi/2, reg[0])\n",
    "    if len(qbs) != 0:\n",
    "        circ.x(qbs) # flip the bits back\n",
    "    return circ.to_gate()"
   ]
  },
  {
   "cell_type": "markdown",
   "id": "ea427293",
   "metadata": {},
   "source": [
    "The following code displays a circuit diagram of the $R_Y$-multiplexer implemented above. "
   ]
  },
  {
   "cell_type": "code",
   "execution_count": null,
   "id": "83444e57",
   "metadata": {},
   "outputs": [
    {
     "data": {
      "image/png": "[encoded data removed]",
      "text/plain": [
       "<Figure size 620.739x367.889 with 1 Axes>"
      ]
     },
     "execution_count": 237,
     "metadata": {},
     "output_type": "execute_result"
    }
   ],
   "source": [
    "n = 4 # the number of qubits\n",
    "theta = 2 # the angle of rotation\n",
    "state = '000' # the control state\n",
    "qr = QuantumRegister(n, name='x')\n",
    "qc = QuantumCircuit(qr, name='Ry multiplixer')\n",
    "qc.compose(ry_mux(n, theta, state), inplace=True)\n",
    "qc.decompose().draw(output='mpl', style='bw')"
   ]
  },
  {
   "cell_type": "markdown",
   "id": "7aae9a9c",
   "metadata": {},
   "source": [
    "### The absolute value state preparation \n",
    "\n",
    "The following function returns a quantum circuit that prepares the state $\\sum_{x=0}^{2^n-1}|\\psi_x|\\ket{x}$. \n",
    "\n",
    "The second input 'angs' is the angles $\\theta, \\theta_{0}, \\theta_{1}, \\theta_{00}, \\theta_{10}, \\theta_{01}, \\theta_{11}, \\cdots $. "
   ]
  },
  {
   "cell_type": "code",
   "execution_count": 105,
   "id": "8cc8387a",
   "metadata": {},
   "outputs": [],
   "source": [
    "def q_amp_prep (n, angs):\n",
    "    reg = QuantumRegister(n, name='x')\n",
    "    circ = QuantumCircuit(reg, name='amp_prep')\n",
    "    circ.ry(angs[0], reg[-1])\n",
    "    for i in range(1, n):\n",
    "        for j in range(0, (1<<i)):\n",
    "            bij = format(j, f'0{i}b')[::-1]\n",
    "            circ.compose(ry_mux(i+1, angs[(1<<i)+j-1], bij), qubits=reg[-i-1:], inplace=True)\n",
    "    return circ.to_gate()"
   ]
  },
  {
   "cell_type": "markdown",
   "id": "2c4a0d3c",
   "metadata": {},
   "source": [
    "The following code illustrates the 'q_amp_prep' function for \n",
    "$$\\psi=\\frac{1}{\\sqrt{204}}\\ket{000}+\\frac{2}{\\sqrt{204}}\\ket{100}+\\frac{3}{\\sqrt{204}}\\ket{010}+\\frac{4}{\\sqrt{204}}\\ket{110}+\\frac{5}{\\sqrt{204}}\\ket{001}+\\frac{6}{\\sqrt{204}}\\ket{101}+\\frac{7}{\\sqrt{204}}\\ket{011}+\\frac{8}{\\sqrt{204}}\\ket{111}.$$\n",
    "\n",
    "The number displayed in the output (above the ciruit diagram) is the error (square norm of the difference) between the input vector $\\psi$ and the statevector of the ciruit."
   ]
  },
  {
   "cell_type": "code",
   "execution_count": null,
   "id": "80e7a007",
   "metadata": {},
   "outputs": [
    {
     "name": "stdout",
     "output_type": "stream",
     "text": [
      "1.126243234769772e-15\n"
     ]
    },
    {
     "data": {
      "image/png": "[encoded data removed]",
      "text/plain": [
       "<Figure size 1707.68x284.278 with 1 Axes>"
      ]
     },
     "execution_count": 257,
     "metadata": {},
     "output_type": "execute_result"
    }
   ],
   "source": [
    "n = 3\n",
    "psi = np.arange(1, 1+(1<<n))\n",
    "psi = (1/np.linalg.norm(psi))*psi\n",
    "qx = QuantumRegister(n, name='x')\n",
    "qsp = QuantumCircuit(qx)\n",
    "angs = amp_to_ang(psi) # get the angles from the psi\n",
    "qsp.compose(q_amp_prep(n, angs), inplace=True) # use the angles obtained as second input in q_amp_prep function\n",
    "print(np.linalg.norm(np.array(Statevector(qsp))-psi)) # display the error between statevector and the given vector\n",
    "qsp.decompose().draw(output='mpl', style='bw')"
   ]
  },
  {
   "cell_type": "markdown",
   "id": "1f157055",
   "metadata": {},
   "source": [
    "## Step 3 - Prepare the angles $\\arg(\\psi_x)$ using $R_Z$ multiplexers\n",
    "\n",
    "### The $R_Z$ multiplexer\n",
    "\n",
    "The following function 'rz_mux(n, theta, state)' implement an $R_Z$-gate multiplexer on $n+1$ qubits. \n",
    "\n",
    "1. The last (ancilla) qubit is the target qubit, while the first $n$ qubits are control qubits. \n",
    "\n",
    "2. The angle of rotation of $R_Z$ gate in the target qubit is specified by theta. \n",
    "\n",
    "3. The input variable 'state' specifies the control state. \n",
    "For example, when state = '001', the target qubit $a$ will be tranformed by $R_Z$ iff $x_0=0$, $x_1=0$, $x_2=1$.\n",
    "\n",
    "Given $n$, state has to be a bitstring of length $n$."
   ]
  },
  {
   "cell_type": "code",
   "execution_count": null,
   "id": "f30622d6",
   "metadata": {},
   "outputs": [],
   "source": [
    "def rz_mux (n, theta, state):\n",
    "    reg = QuantumRegister(n, name='x')\n",
    "    anc = AncillaRegister(1, name='a')\n",
    "    circ = QuantumCircuit(reg, anc, name='m'+r'$R_Z$'+'\\n'+str(state)+'\\n'+r'$\\theta$'+ '='+str(np.round(theta, 2)))\n",
    "    qbs = [reg[k] for k, x in enumerate(state) if x == '0']\n",
    "    if len(qbs) != 0:\n",
    "        circ.x(qbs) # flip the bits that are 0\n",
    "    circ.compose(MCRZ(n+1, 2*theta), qubits=reversed(reg[:]+[anc[0]]), inplace=True)\n",
    "    if len(qbs) != 0:\n",
    "        circ.x(qbs) # flip the bits back\n",
    "    return circ.to_gate()"
   ]
  },
  {
   "cell_type": "markdown",
   "id": "3d292d2d",
   "metadata": {},
   "source": [
    "The following code displays a circuit diagram of the $R_Z$-multiplxer implemented above. "
   ]
  },
  {
   "cell_type": "code",
   "execution_count": null,
   "id": "a6240dc8",
   "metadata": {},
   "outputs": [
    {
     "data": {
      "image/png": "[encoded data removed]",
      "text/plain": [
       "<Figure size 453.517x451.5 with 1 Axes>"
      ]
     },
     "execution_count": 263,
     "metadata": {},
     "output_type": "execute_result"
    }
   ],
   "source": [
    "n = 4 # the number of qubits\n",
    "theta = 2 # the angle of rotation\n",
    "state = '0000' # the control state\n",
    "qr = QuantumRegister(n, name='x')\n",
    "qa = AncillaRegister(1, name='a')\n",
    "qc = QuantumCircuit(qr, qa, name='Rz multiplixer')\n",
    "qc.compose(rz_mux(n, theta, state), inplace=True)\n",
    "qc.decompose().draw(output='mpl', style='bw')"
   ]
  },
  {
   "cell_type": "markdown",
   "id": "8333424e",
   "metadata": {},
   "source": [
    "### The argument preparation circuit\n",
    "\n",
    "Given the number of qubits $n$ and a list of $2^n$ angles $\\theta_x$ ('args'), the following function returns a ciruit that shifts the phase of the $\\ket{x}$ by $\\theta_x$.\n",
    "\n",
    "It makes use of the $R_Z$-multiplexer implemented above. The ancilla qubit is first flipped to $\\ket{1}$ and then depending on the state $\\ket{x}$ of the quantum register, the phase $\\theta_x$ is recorded using the ancilla register. Finally, the ancilla register is flipped back to $\\ket{0}$."
   ]
  },
  {
   "cell_type": "code",
   "execution_count": 264,
   "id": "5882aaa8",
   "metadata": {},
   "outputs": [],
   "source": [
    "def q_arg_prep (n, args):\n",
    "    reg = QuantumRegister(n, name='x')\n",
    "    anc = AncillaRegister(1, name='a')\n",
    "    circ = QuantumCircuit(reg, anc, name='arg_prep')\n",
    "    circ.x(anc)\n",
    "    for i in range(1<<n):\n",
    "        bi = format(i, f'0{n}b')[::-1]\n",
    "        circ.compose(rz_mux(n, args[i], bi), qubits=reg[:]+[anc[0]], inplace=True)\n",
    "    circ.x(anc)\n",
    "    return circ.to_gate()"
   ]
  },
  {
   "cell_type": "markdown",
   "id": "e580494d",
   "metadata": {},
   "source": [
    "The following code illustrates the 'q_arg_prep' function for a random list of $2^n$ angles between $-\\pi$ to $\\pi$.\n",
    "\n",
    "The list of angles is displayed in the output along with the ciruit diagram."
   ]
  },
  {
   "cell_type": "code",
   "execution_count": 265,
   "id": "2ad53ef6",
   "metadata": {},
   "outputs": [
    {
     "name": "stdout",
     "output_type": "stream",
     "text": [
      "[ 1.74026477 -2.8985433  -0.87256805  0.29860592]\n"
     ]
    },
    {
     "data": {
      "image/png": "[encoded data removed]",
      "text/plain": [
       "<Figure size 1289.43x284.278 with 1 Axes>"
      ]
     },
     "execution_count": 265,
     "metadata": {},
     "output_type": "execute_result"
    }
   ],
   "source": [
    "n = 2\n",
    "args = np.random.uniform(-np.pi, np.pi, 1<<n)\n",
    "qx = QuantumRegister(n, name='x')\n",
    "qa = AncillaRegister(1, name='a')\n",
    "qsp = QuantumCircuit(qx, qa)\n",
    "qsp.compose(q_arg_prep(n, args), inplace=True)\n",
    "print(args)\n",
    "qsp.decompose().draw(output='mpl', style='bw')"
   ]
  },
  {
   "cell_type": "markdown",
   "id": "02d46b53",
   "metadata": {},
   "source": [
    "## The final quantum state preparation circuit\n",
    "\n",
    "The quantum state preparation circuit is essentially a composition of the absolute value state prepration circuit and the argument prepation circuit.\n",
    "\n",
    "### Generate random complex unit vectors for testing\n",
    "\n",
    "Given $n$, the following function generates a $2^n$-dimensional complex vector of norm $1$."
   ]
  },
  {
   "cell_type": "code",
   "execution_count": 286,
   "id": "fa9d8db6",
   "metadata": {},
   "outputs": [],
   "source": [
    "def gen_psi (n):\n",
    "    max_mod = 10 # can be changed to any other positive number\n",
    "    rand_amps = np.random.uniform(0, max_mod, 1<<n)\n",
    "    rand_args = np.random.uniform(-np.pi, np.pi, 1<<n)\n",
    "    rand_psi = rand_amps*np.exp(1.j*rand_args)\n",
    "    norm_psi = np.linalg.norm(rand_psi)\n",
    "    if norm_psi != 0:\n",
    "        return (1/norm_psi)*rand_psi\n",
    "    return gen_psi(n)"
   ]
  },
  {
   "cell_type": "markdown",
   "id": "de5b4ec9",
   "metadata": {},
   "source": [
    "### The final quantum state preparation circuit\n",
    "\n",
    "Given a $2^n$-dimensional unit complex vector $\\psi$, the following function output a circuit whose statevector is the given vector $\\psi$."
   ]
  },
  {
   "cell_type": "code",
   "execution_count": 288,
   "id": "18566bab",
   "metadata": {},
   "outputs": [],
   "source": [
    "def QSP (psi):\n",
    "    psi_amps = np.absolute(psi) # find the moduli of components of psi\n",
    "    psi_args = np.angle(psi) # find the arguments of components of psi\n",
    "    qx = QuantumRegister(n, name='x')\n",
    "    qa = AncillaRegister(1, name='a')\n",
    "    qsp = QuantumCircuit(qx, qa, name='QSP')\n",
    "    angs = amp_to_ang(psi_amps) # find the list of thetas associated to moduli of components of psi\n",
    "    qsp.compose(q_amp_prep(n, angs), qubits=qx, inplace=True) # prepare the absolute value state\n",
    "    qsp.compose(q_arg_prep(n, psi_args), inplace=True) # load the agruments\n",
    "    return qsp"
   ]
  },
  {
   "cell_type": "markdown",
   "id": "4cafb4a3",
   "metadata": {},
   "source": [
    "### Testing on randomly generated complex unit vectors\n",
    "\n",
    "The following code illustrates the QSP circuit implemented above for randomly generated unit complex vector of dimenstion $2^n$.\n",
    "\n",
    "The number displayed in the output (above the ciruit diagram) is the error (square norm of the difference) between the input vector $\\psi$ and the statevector of the ciruit."
   ]
  },
  {
   "cell_type": "code",
   "execution_count": 289,
   "id": "025a51ab",
   "metadata": {},
   "outputs": [
    {
     "name": "stdout",
     "output_type": "stream",
     "text": [
      "1.9366010342907562e-15\n"
     ]
    },
    {
     "data": {
      "image/png": "[encoded data removed]",
      "text/plain": [
       "<Figure size 453.517x367.889 with 1 Axes>"
      ]
     },
     "execution_count": 289,
     "metadata": {},
     "output_type": "execute_result"
    }
   ],
   "source": [
    "n = 3\n",
    "psi = gen_psi(n)\n",
    "qx = QuantumRegister(n, name='x')\n",
    "qa = AncillaRegister(1, name='a')\n",
    "qsp = QuantumCircuit(qx, qa, name='QSP')\n",
    "qsp.compose(QSP(psi), inplace=True)\n",
    "print(np.linalg.norm(np.array(Statevector(qsp))[:1<<n]-psi))\n",
    "qsp.draw(output='mpl', style='bw')"
   ]
  },
  {
   "cell_type": "code",
   "execution_count": 290,
   "id": "56f1083e",
   "metadata": {},
   "outputs": [
    {
     "data": {
      "text/plain": [
       "array([ 0.31293768+0.32695403j,  0.05207757+0.00593108j,\n",
       "        0.1614727 +0.14555888j,  0.07238078+0.68598084j,\n",
       "       -0.22927037-0.05507288j, -0.02800363+0.03685824j,\n",
       "       -0.02514627-0.14733904j,  0.42689247+0.08387692j])"
      ]
     },
     "execution_count": 290,
     "metadata": {},
     "output_type": "execute_result"
    }
   ],
   "source": [
    "psi"
   ]
  },
  {
   "cell_type": "code",
   "execution_count": 291,
   "id": "bac146eb",
   "metadata": {},
   "outputs": [
    {
     "data": {
      "text/latex": [
       "$$(0.3129376829 + 0.3269540311 i) |0000\\rangle+(0.0520775704 + 0.0059310773 i) |0001\\rangle+(0.1614727039 + 0.1455588843 i) |0010\\rangle+(0.0723807814 + 0.6859808414 i) |0011\\rangle+(-0.2292703714 - 0.0550728831 i) |0100\\rangle+(-0.0280036335 + 0.0368582392 i) |0101\\rangle+(-0.0251462723 - 0.1473390359 i) |0110\\rangle+(0.4268924671 + 0.0838769217 i) |0111\\rangle$$"
      ],
      "text/plain": [
       "<IPython.core.display.Latex object>"
      ]
     },
     "execution_count": 291,
     "metadata": {},
     "output_type": "execute_result"
    }
   ],
   "source": [
    "Statevector(qsp).draw(\"latex\")"
   ]
  }
 ],
 "metadata": {
  "kernelspec": {
   "display_name": "base",
   "language": "python",
   "name": "python3"
  },
  "language_info": {
   "codemirror_mode": {
    "name": "ipython",
    "version": 3
   },
   "file_extension": ".py",
   "mimetype": "text/x-python",
   "name": "python",
   "nbconvert_exporter": "python",
   "pygments_lexer": "ipython3",
   "version": "3.11.5"
  }
 },
 "nbformat": 4,
 "nbformat_minor": 5
}
